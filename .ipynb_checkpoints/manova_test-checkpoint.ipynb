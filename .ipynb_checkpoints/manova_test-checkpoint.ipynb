{
 "cells": [
  {
   "cell_type": "markdown",
   "id": "982f69ff-6a7c-4288-8a35-232a270443f7",
   "metadata": {},
   "source": [
    "# Multivariate Statistical Tests\n",
    "\n",
    "### Multivariate Analysis of Variance (MANOVA)"
   ]
  },
  {
   "cell_type": "code",
   "execution_count": 1,
   "id": "a67ec8ad-0f49-40a0-a46b-36afdf5eb1b0",
   "metadata": {},
   "outputs": [],
   "source": [
    "!pip install -q -U watermark"
   ]
  },
  {
   "cell_type": "code",
   "execution_count": 2,
   "id": "cf31244c-ef4a-45f6-8be5-cb9b04a2e61d",
   "metadata": {},
   "outputs": [
    {
     "name": "stdout",
     "output_type": "stream",
     "text": [
      "Author: Zelly Irigon\n",
      "\n"
     ]
    }
   ],
   "source": [
    "%reload_ext watermark\n",
    "%watermark -a \"Zelly Irigon\""
   ]
  },
  {
   "cell_type": "code",
   "execution_count": 3,
   "id": "5e45bd43-cbd5-4e1b-821a-6b1e3dc37fd8",
   "metadata": {},
   "outputs": [],
   "source": [
    "#Imports\n",
    "import scipy\n",
    "import statsmodels\n",
    "import numpy as np\n",
    "import pandas as pd\n",
    "from statsmodels.multivariate.manova import MANOVA\n",
    "from scipy.stats import f\n",
    "from numpy.linalg import inv, det"
   ]
  },
  {
   "cell_type": "markdown",
   "id": "46df14d6-2800-42c0-9acf-5f3b5b919209",
   "metadata": {},
   "source": [
    "### Multivariate Analysis of Variance (MANOVA)\n",
    "Multivariate Analysis of Variance (MANOVA) is a statistical technique used to analyse the differences between groups on multiple dependent variables simultaneously. It is an extension of Analysis of Variance (ANOVA), which is used for a single dependent variable. MANOVA is particularly useful when the dependent variables are correlated, and you want to understand how different independent variables (or groups) affect these dependent variables together.\n",
    "\n",
    "**Hypotheses**\n",
    "\n",
    "* Null Hypothesis (H0): The means of all dependent variables are equal across groups.\n",
    "* Alternative Hypothesis (H1): At least one mean of a dependent variable differs across groups.\n",
    "\n",
    "**Dependent and Independent Variables**\n",
    "\n",
    "* MANOVA deals with two or more dependent variables.\n",
    "* It can have one or more independent variables (factors), which are categorical.\n",
    "\n",
    "**Correlation Between Dependent Variables**\n",
    "\n",
    "One of the main reasons to use MANOVA is that it considers the correlation between the dependent variables, which can provide a more accurate understanding of the effect of the independent variables.\n",
    "\n",
    "**Test Statistics**\n",
    "\n",
    "MANOVA uses various test statistics such as Wilks' Lambda, Pillai's Trace, Hotelling-Lawley Trace, and Roy's Largest Root, each with its own characteristics and conditions of applicability.\n",
    "\n",
    "**Assumptions of the Test**\n",
    "> Short information about parametric tests and assumptions: Parametric tests in multivariate analysis are statistical procedures that assume the data follows specific distributions and satisfies certain conditions:\n",
    "**Multivariate Normality:** The data across all dependent variables follows a multivariate normal distribution within each group or sample.\n",
    "**Homogeneity of Covariance Matrices:** The variance and covariance (relationships between variables) matrices are similar across groups or samples.\n",
    "**Independence:** Observations or samples are independent of each other.\n",
    "\n",
    "* Multivariate normality of the data.\n",
    "* Homogeneity of covariance matrices (variances are equal across groups).\n",
    "* Independent samples.\n",
    " \n",
    "**Interpretation**\n",
    "\n",
    "A significant result indicates that there is a difference in the sets of means of the dependent variables across groups. However, additional analyses, such as post-hoc tests, may be necessary to identify exactly where these differences lie. We will see this shortly in Python.\n",
    "\n",
    "**Applications of MANOVA**\n",
    "\n",
    "* Social Sciences and Psychology Research: For example, comparing the effects of different therapeutic interventions on various aspects of psychological well-being.\n",
    "* Biology and Medicine Research: Such as evaluating the effect of a treatment on multiple health indicators.\n",
    "* Market Research: Assessing consumer reactions to different product features.\n",
    "\n",
    "  \n",
    "MANOVA is a powerful tool for multivariate analysis and is especially useful when the dependent variables are related to each other, allowing for a more comprehensive understanding of the effects of the independent variables."
   ]
  },
  {
   "cell_type": "markdown",
   "id": "60229ad5-857e-495e-b478-1190f7290114",
   "metadata": {},
   "source": [
    "### Multivariate Analysis of Variance (MANOVA) in Practice with Python\n",
    "Let's assess if there are significant differences among three groups (A, B, and C) regarding a set of dependent variables (in this case, DV1 and DV2). MANOVA is particularly useful here because we are dealing with more than one dependent variable and want to understand if the effect of the groups extends beyond a single outcome variable.\n",
    "\n",
    "**Objective of the Analysis:**\n",
    "\n",
    "To evaluate the effectiveness of different teaching methods on students' academic performance. The study focuses on two main aspects of academic performance: understanding of concepts (DV1) and practical skills (DV2).\n",
    "\n",
    "**Study Groups:**\n",
    "\n",
    "* Group A: Students who received traditional lecture-based teaching with notes.\n",
    "* Group B: Students taught through project-based learning methods, emphasizing practical experiences.\n",
    "* Group C: Students who participated in interactive classes, using technology and collaborative learning.\n",
    "\n",
    "**Dependent Variables:**\n",
    "\n",
    "* DV1 (Understanding of Concepts): Measured through a standardized test assessing students' comprehension of theoretical concepts taught in class.\n",
    "* DV2 (Practical Skills): Assessed through practical projects or laboratory experiments, where students demonstrate the practical application of their knowledge.\n",
    "\n",
    "**Importance of MANOVA:**\n",
    "\n",
    "MANOVA will be used to analyse if there are statistically significant differences in students' performance (both in terms of understanding concepts and practical skills) among the three groups that experienced different teaching methods. This approach is particularly useful because it allows evaluating the impact of teaching methods on multiple dimensions of academic performance simultaneously, considering the possible correlation between theoretical understanding and practical skills."
   ]
  },
  {
   "cell_type": "code",
   "execution_count": 11,
   "id": "647c5049-0aa1-42a4-b419-6c0b4d06a8a4",
   "metadata": {},
   "outputs": [],
   "source": [
    "# Generating synthetic data\n",
    "np.random.seed(0)\n",
    "group = np.repeat(['A', 'B', 'C'], 20) # Three groups\n",
    "data1 = np.random.normal(0 , 1, 60) + (group =='B') * 1 + (group == 'C') *2 # Dependent variable 1\n",
    "data2 = np.random.normal(0, 1, 60) + (group =='B') * 1.5 + (group == 'C') * -1 # Dependent variable 2\n",
    "df_dsa = pd.DataFrame({'Group': group, 'DV1': data1, 'DV2': data2})"
   ]
  },
  {
   "cell_type": "code",
   "execution_count": 12,
   "id": "e634cb29-466e-48f2-8a33-f86ce23af715",
   "metadata": {},
   "outputs": [
    {
     "data": {
      "text/html": [
       "<div>\n",
       "<style scoped>\n",
       "    .dataframe tbody tr th:only-of-type {\n",
       "        vertical-align: middle;\n",
       "    }\n",
       "\n",
       "    .dataframe tbody tr th {\n",
       "        vertical-align: top;\n",
       "    }\n",
       "\n",
       "    .dataframe thead th {\n",
       "        text-align: right;\n",
       "    }\n",
       "</style>\n",
       "<table border=\"1\" class=\"dataframe\">\n",
       "  <thead>\n",
       "    <tr style=\"text-align: right;\">\n",
       "      <th></th>\n",
       "      <th>Group</th>\n",
       "      <th>DV1</th>\n",
       "      <th>DV2</th>\n",
       "    </tr>\n",
       "  </thead>\n",
       "  <tbody>\n",
       "    <tr>\n",
       "      <th>0</th>\n",
       "      <td>A</td>\n",
       "      <td>1.764052</td>\n",
       "      <td>-0.672460</td>\n",
       "    </tr>\n",
       "    <tr>\n",
       "      <th>1</th>\n",
       "      <td>A</td>\n",
       "      <td>0.400157</td>\n",
       "      <td>-0.359553</td>\n",
       "    </tr>\n",
       "    <tr>\n",
       "      <th>2</th>\n",
       "      <td>A</td>\n",
       "      <td>0.978738</td>\n",
       "      <td>-0.813146</td>\n",
       "    </tr>\n",
       "    <tr>\n",
       "      <th>3</th>\n",
       "      <td>A</td>\n",
       "      <td>2.240893</td>\n",
       "      <td>-1.726283</td>\n",
       "    </tr>\n",
       "    <tr>\n",
       "      <th>4</th>\n",
       "      <td>A</td>\n",
       "      <td>1.867558</td>\n",
       "      <td>0.177426</td>\n",
       "    </tr>\n",
       "  </tbody>\n",
       "</table>\n",
       "</div>"
      ],
      "text/plain": [
       "  Group       DV1       DV2\n",
       "0     A  1.764052 -0.672460\n",
       "1     A  0.400157 -0.359553\n",
       "2     A  0.978738 -0.813146\n",
       "3     A  2.240893 -1.726283\n",
       "4     A  1.867558  0.177426"
      ]
     },
     "execution_count": 12,
     "metadata": {},
     "output_type": "execute_result"
    }
   ],
   "source": [
    "df_dsa.head()"
   ]
  },
  {
   "cell_type": "code",
   "execution_count": 13,
   "id": "8e67ed58-5d0c-4590-a032-a11cf362ea8a",
   "metadata": {},
   "outputs": [
    {
     "data": {
      "text/plain": [
       "1.0766672955545968"
      ]
     },
     "execution_count": 13,
     "metadata": {},
     "output_type": "execute_result"
    }
   ],
   "source": [
    "# Mean of all study groups\n",
    "df_dsa.DV1.mean()"
   ]
  },
  {
   "cell_type": "code",
   "execution_count": 14,
   "id": "8218a085-56bb-4288-8b50-d576725d9cf6",
   "metadata": {},
   "outputs": [
    {
     "data": {
      "text/plain": [
       "0.355222863336584"
      ]
     },
     "execution_count": 14,
     "metadata": {},
     "output_type": "execute_result"
    }
   ],
   "source": [
    "df_dsa.DV2.mean()"
   ]
  },
  {
   "cell_type": "code",
   "execution_count": 15,
   "id": "197df2f7-0403-49ea-a516-3b1ec7694db2",
   "metadata": {},
   "outputs": [
    {
     "name": "stdout",
     "output_type": "stream",
     "text": [
      "Note: you may need to restart the kernel to use updated packages.\n"
     ]
    }
   ],
   "source": [
    "pip install -q --upgrade seaborn"
   ]
  },
  {
   "cell_type": "code",
   "execution_count": 19,
   "id": "199d7605-75c0-45c8-bd64-02e9621edb03",
   "metadata": {},
   "outputs": [
    {
     "data": {
      "image/png": "[encoded data removed]",
      "text/plain": [
       "<Figure size 640x480 with 2 Axes>"
      ]
     },
     "metadata": {},
     "output_type": "display_data"
    }
   ],
   "source": [
    "import seaborn as sns\n",
    "import matplotlib.pyplot as plt\n",
    "fig, axs = plt.subplots(ncols=2)\n",
    "sns.boxplot(data = df_dsa, x = 'Group', y = 'DV1', hue = df_dsa.Group.tolist(), ax = axs[0])\n",
    "sns.boxplot(data = df_dsa, x = 'Group', y = 'DV2', hue = df_dsa.Group.tolist(), ax = axs[1])\n",
    "plt.show()"
   ]
  },
  {
   "cell_type": "markdown",
   "id": "ac26acb1-0ff0-4579-9b5d-697a0f7758b5",
   "metadata": {},
   "source": [
    "### Definition of Hypotheses:\n",
    "\n",
    "**Null Hypothesis (H0)**\n",
    "\n",
    "H0: There are no significant differences among the three study groups (Group A, Group B, Group C) regarding the dependent variables of understanding of concepts (DV1) and practical skills (DV2).\n",
    "\n",
    "The null hypothesis suggests that, regardless of the teaching method used (traditional, project-based, or interactive with technology), there is no statistically significant difference in students' academic performance, both in theoretical understanding and practical skills.\n",
    "\n",
    "**Alternative Hypothesis (H1)**\n",
    "\n",
    "H1: There are significant differences among at least two of the three study groups (Group A, Group B, Group C) regarding the dependent variables of understanding of concepts (DV1) and practical skills (DV2).\n",
    "\n",
    "The alternative hypothesis proposes that teaching methods have different impacts on students' academic performance. This means that at least one teaching method is statistically more effective or less effective than the others in terms of improving understanding of concepts, practical skills, or both."
   ]
  },
  {
   "cell_type": "code",
   "execution_count": 22,
   "id": "e30baa25-8b93-40b3-9030-4b9247305b22",
   "metadata": {},
   "outputs": [],
   "source": [
    "# MANOVA\n",
    "# dependent variables ~ independent variables\n",
    "maov = MANOVA.from_formula('DV1 + DV2 ~ Group', data = df_dsa)"
   ]
  },
  {
   "cell_type": "code",
   "execution_count": 23,
   "id": "8dcd6647-b479-428f-adb4-f527f72a9a5b",
   "metadata": {},
   "outputs": [
    {
     "name": "stdout",
     "output_type": "stream",
     "text": [
      "                  Multivariate linear model\n",
      "=============================================================\n",
      "                                                             \n",
      "-------------------------------------------------------------\n",
      "        Intercept        Value  Num DF  Den DF F Value Pr > F\n",
      "-------------------------------------------------------------\n",
      "           Wilks' lambda 0.8581 2.0000 56.0000  4.6317 0.0138\n",
      "          Pillai's trace 0.1419 2.0000 56.0000  4.6317 0.0138\n",
      "  Hotelling-Lawley trace 0.1654 2.0000 56.0000  4.6317 0.0138\n",
      "     Roy's greatest root 0.1654 2.0000 56.0000  4.6317 0.0138\n",
      "-------------------------------------------------------------\n",
      "                                                             \n",
      "-------------------------------------------------------------\n",
      "         Group          Value  Num DF  Den DF  F Value Pr > F\n",
      "-------------------------------------------------------------\n",
      "          Wilks' lambda 0.3574 4.0000 112.0000 18.8364 0.0000\n",
      "         Pillai's trace 0.7316 4.0000 114.0000 16.4396 0.0000\n",
      " Hotelling-Lawley trace 1.5489 4.0000  66.1739 21.5622 0.0000\n",
      "    Roy's greatest root 1.3667 2.0000  57.0000 38.9500 0.0000\n",
      "=============================================================\n",
      "\n"
     ]
    }
   ],
   "source": [
    "print(maov.mv_test())"
   ]
  },
  {
   "cell_type": "markdown",
   "id": "eb0839dc-3219-431a-b644-f5bda2c307d7",
   "metadata": {},
   "source": [
    "Let's interpret the results step by step:\n",
    "\n",
    "**Intercept Section**\n",
    "\n",
    "This section tests the null hypothesis that the multivariate mean intercept is equal to zero. Results are presented for four different statistics: Wilks' Lambda, Pillai's Trace, Hotelling-Lawley Trace, and Roy's Greatest Root.\n",
    "\n",
    "Interpretation: With a p-value of 0.0138 (less than 0.05), we reject the null hypothesis, suggesting that the multivariate mean intercept is significantly different from zero.\n",
    "\n",
    "The other three tests provide consistent results with the interpretation of Wilks' Lambda.\n",
    "\n",
    "**Group Section**\n",
    "\n",
    "This section tests the null hypothesis that group means are equal across all dependent variables. Again, results are presented for the same four statistics.\n",
    "\n",
    "* Wilks' Lambda - Interpretation: With a p-value close to zero, we reject the null hypothesis, indicating significant differences in the multivariate means of the groups.\n",
    "* Pillai's Trace - Interpretation: Results consistent with Wilks' Lambda, reinforcing rejection of the null hypothesis.\n",
    "* Hotelling-Lawley Trace and Roy's Greatest Root:\n",
    "    * High F-values, p-values close to zero.\n",
    "\n",
    "Interpretation: Both confirm rejection of the null hypothesis.\n",
    "\n",
    "**Conclusion**\n",
    "\n",
    "All tests indicate there are statistically significant differences between the groups regarding the dependent variables considered in the model. The very low p-values across all tests reinforce this conclusion. This means that, based on the data and the specified model, the means of the dependent variables vary significantly among the studied groups."
   ]
  },
  {
   "cell_type": "markdown",
   "id": "6b46d711-aa62-42ed-8bd2-c3f7998dc366",
   "metadata": {},
   "source": [
    "### Linear Discriminant Analysis (LDA)\n",
    "\n",
    "And which teaching method stands out compared to the others?"
   ]
  },
  {
   "cell_type": "markdown",
   "id": "76d0f2bb-cac6-458f-ad75-c0f375fa08da",
   "metadata": {},
   "source": [
    "Here we will perform Linear Discriminant Analysis (LDA) using sklearn to observe the differences between each group. LDA will discriminate between the groups using information from both dependent variables."
   ]
  },
  {
   "cell_type": "code",
   "execution_count": 26,
   "id": "daacf391-2a0c-45eb-9f0b-79e98f47da4e",
   "metadata": {},
   "outputs": [
    {
     "data": {
      "image/png": "[encoded data removed]",
      "text/plain": [
       "<Figure size 640x480 with 1 Axes>"
      ]
     },
     "metadata": {},
     "output_type": "display_data"
    }
   ],
   "source": [
    "from sklearn.discriminant_analysis import LinearDiscriminantAnalysis as lda\n",
    "\n",
    "# Data\n",
    "X = df_dsa[['DV1', 'DV2']]\n",
    "y = df_dsa['Group']\n",
    "\n",
    "# LDA Model\n",
    "model = lda().fit(X = X, y = y)\n",
    "\n",
    "# Probability of the groups\n",
    "model.priors_\n",
    "\n",
    "# Mean\n",
    "model.means_\n",
    "\n",
    "# Coeficients\n",
    "model.scalings_\n",
    "\n",
    "# Variance Explained\n",
    "model.explained_variance_ratio_       \n",
    "\n",
    "# Plot\n",
    "X_new = pd.DataFrame(lda().fit(X=X, y = y).transform(X), columns = ['lda1', 'lda2'])\n",
    "X_new['Group'] = df_dsa['Group']\n",
    "sns.scatterplot(data = X_new, x = 'lda1', y = 'lda2', hue = df_dsa.Group.tolist())\n",
    "plt.show()"
   ]
  },
  {
   "cell_type": "markdown",
   "id": "4e3ce077-3861-493b-96e6-b74ac7c41ddc",
   "metadata": {},
   "source": [
    "The plot shows a clear separation of group B, while there is almost no distinction between groups A and C."
   ]
  },
  {
   "cell_type": "code",
   "execution_count": 27,
   "id": "7e659c40-918e-4925-92e8-17eed4d35e56",
   "metadata": {},
   "outputs": [
    {
     "data": {
      "text/plain": [
       "array([0.33333333, 0.33333333, 0.33333333])"
      ]
     },
     "execution_count": 27,
     "metadata": {},
     "output_type": "execute_result"
    }
   ],
   "source": [
    "model.priors_"
   ]
  },
  {
   "cell_type": "code",
   "execution_count": 28,
   "id": "5d62ae63-cf49-44a0-b9ae-bd695fb1e3f6",
   "metadata": {},
   "outputs": [
    {
     "data": {
      "text/plain": [
       "array([[ 0.56933459, -0.35217102],\n",
       "       [ 1.05575035,  1.92120921],\n",
       "       [ 1.60491694, -0.5033696 ]])"
      ]
     },
     "execution_count": 28,
     "metadata": {},
     "output_type": "execute_result"
    }
   ],
   "source": [
    "model.means_"
   ]
  },
  {
   "cell_type": "code",
   "execution_count": 29,
   "id": "88906f8e-a769-4a58-9296-d0d1c8c19248",
   "metadata": {},
   "outputs": [
    {
     "data": {
      "text/plain": [
       "array([[-0.10054727,  0.98701603],\n",
       "       [ 1.02323379,  0.04803305]])"
      ]
     },
     "execution_count": 29,
     "metadata": {},
     "output_type": "execute_result"
    }
   ],
   "source": [
    "model.scalings_"
   ]
  },
  {
   "cell_type": "markdown",
   "id": "85d1224e-b50f-4275-9211-ac862e5583f1",
   "metadata": {},
   "source": [
    "# End"
   ]
  }
 ],
 "metadata": {
  "kernelspec": {
   "display_name": "Python 3 (ipykernel)",
   "language": "python",
   "name": "python3"
  },
  "language_info": {
   "codemirror_mode": {
    "name": "ipython",
    "version": 3
   },
   "file_extension": ".py",
   "mimetype": "text/x-python",
   "name": "python",
   "nbconvert_exporter": "python",
   "pygments_lexer": "ipython3",
   "version": "3.11.7"
  }
 },
 "nbformat": 4,
 "nbformat_minor": 5
}
