{
 "cells": [
  {
   "cell_type": "markdown",
   "id": "35744f69-8df2-425d-b563-d563855dcc27",
   "metadata": {},
   "source": [
    "# Multivariate Statistical Tests\n",
    "\n",
    "## Hotelling's T² Test"
   ]
  },
  {
   "cell_type": "code",
   "execution_count": 1,
   "id": "ff17a574-35b8-4fb4-9d85-11c74b2f8724",
   "metadata": {},
   "outputs": [],
   "source": [
    "!pip install -q -U watermark"
   ]
  },
  {
   "cell_type": "code",
   "execution_count": 2,
   "id": "d998343b-28ff-4378-b9bf-856e01195bf9",
   "metadata": {},
   "outputs": [
    {
     "name": "stdout",
     "output_type": "stream",
     "text": [
      "Author: Zelly Irigon\n",
      "\n"
     ]
    }
   ],
   "source": [
    "%reload_ext watermark\n",
    "%watermark -a \"Zelly Irigon\""
   ]
  },
  {
   "cell_type": "code",
   "execution_count": 4,
   "id": "6b495715-935c-4ee9-89c7-82b47b1987d5",
   "metadata": {},
   "outputs": [],
   "source": [
    "#Imports\n",
    "import scipy\n",
    "import statsmodels\n",
    "import numpy as np\n",
    "import pandas as pd\n",
    "from statsmodels.multivariate.manova import MANOVA\n",
    "from scipy.stats import f\n",
    "from numpy.linalg import inv, det"
   ]
  },
  {
   "cell_type": "markdown",
   "id": "f8dac28c-97e6-478c-a251-074dceebfe2e",
   "metadata": {},
   "source": [
    "### Multivariate Statistical Tests\n",
    "Hypothesis Tests for Multivariate Means are essential to understand if the means of two or more groups are significantly different, considering multiple variables at the same time.\n",
    "\n",
    "Below are some of the most common tests in this category."
   ]
  },
  {
   "cell_type": "markdown",
   "id": "90ceb502-d6a3-4a8a-9cd4-69de5c743a6f",
   "metadata": {},
   "source": [
    "### Hotelling's T² Test\n",
    "**Definition**\n",
    "\n",
    "Hotelling's T² Test is the multivariate extension of the t-test for two samples. It is used to test the equality of the means of two groups and requires that the samples are independent and that the data follow a multivariate normal distribution.\n",
    "\n",
    "Named after Harold Hotelling, Hotelling's T² Test is a multivariate statistical test used to compare the means of two multivariate groups. It is the multivariate extension of the Student's t-test, which is used to compare the means of two groups when there is only one dependent variable. Hotelling's T² Test is applied when there are two or more dependent variables.\n",
    "\n",
    "**Comparison of Multivariate Means**\n",
    "\n",
    "The test is used to determine if there is a significant difference between the means of two groups across multiple dependent variables simultaneously.\n",
    "\n",
    "**Hypotheses** \n",
    "\n",
    "* Null Hypothesis (H0): The multivariate means of the two groups are equal.\n",
    "\n",
    "* Alternative Hypothesis (H1): The multivariate means of the two groups are different.\n",
    "\n",
    "**Data Requirements**\n",
    "\n",
    "The test assumes that the data from each group are independent random samples and follow a multivariate normal distribution.\n",
    "\n",
    "**Covariance Matrix**\n",
    "\n",
    "The analysis involves using the covariance matrix of the dependent variables. The test takes into account not only the variables themselves but also the relationship (covariance) between them.\n",
    "\n",
    "**Test Statistic**\n",
    "\n",
    "The T² test statistic is calculated based on the group means, covariance matrices, and sample sizes. This statistic is then converted into an F-statistic to facilitate obtaining the p-value.\n",
    "\n",
    "**Interpretation**\n",
    "\n",
    "If the calculated p-value is less than the chosen significance level (usually 0.05), the null hypothesis is rejected, indicating that there is a significant difference between the group means.\n",
    "\n",
    "**Applications of Hotelling's T² Test**\n",
    "\n",
    "It is widely used in fields such as biomedical research, social sciences, marketing, and others, where the comparison of multiple variables is crucial.\n",
    "\n",
    "It can be used to test differences in group means in pre- and post-treatment studies, comparative studies between different demographic groups, among others.\n",
    "\n",
    "Hotelling's T² Test is a powerful tool for multivariate analysis, allowing Data Scientists to test complex hypotheses about the relationships between multiple variables in different groups."
   ]
  },
  {
   "cell_type": "markdown",
   "id": "a7e15ea8-3912-4722-b430-491940c87c05",
   "metadata": {},
   "source": [
    "### Hotelling's T² Test in Practice with Python\n",
    "**Analysis Objective:**\n",
    "\n",
    "The study aims to investigate if there are significant differences in physical characteristics (height and weight) between athletes of two different sports. Hotelling's T² Test will be used to determine if the multivariate means of height and weight are significantly different between the two groups of athletes.\n",
    "\n",
    "**Study Groups:**\n",
    "\n",
    "* Group 1: Basketball players. They are generally expected to be taller and heavier due to the nature of the sport.\n",
    "* Group 2: Artistic gymnasts. These athletes tend to be lighter and shorter, characteristics beneficial for their sport.\n",
    "\n",
    "**Dependent Variables:**\n",
    "\n",
    "* Height (cm): Measure of the athletes' height.\n",
    "\n",
    "* Weight (kg): Measure of the athletes' weight.\n",
    "\n",
    "**Generation of Synthetic Data:**\n",
    "\n",
    "Data for basketball players (Group 1) and artistic gymnasts (Group 2) will be synthetically generated with multivariate normal distributions. The means and covariances were chosen to reflect the real expectations of these athletes in terms of height and weight.\n",
    "\n",
    "**Application of Hotelling's T² Test:**\n",
    "\n",
    "Hotelling's T² Test is applied to compare the means of height and weight between the two groups of athletes. This test was chosen for its ability to simultaneously evaluate the difference in the means of two dependent variables (height and weight), considering the correlation between them.\n",
    "\n",
    "**Importance of the Analysis:**\n",
    "\n",
    "This study can provide valuable information on how different sports are associated with different physical characteristics. These insights can be useful for coaches and sports scientists in identifying talent and developing sport-specific training programmes. Additionally, it can contribute to understanding how the physical demands of each sport shape the athletes' body characteristics.\n",
    "\n",
    "**Hypotheses Definition:**\n",
    "\n",
    "* Null Hypothesis (H0)\n",
    "\n",
    "The null hypothesis in a statistical test is generally a statement of \"no difference\" or \"no effect.\" In the context of this study, the null hypothesis would be:\n",
    "\n",
    "H0: There are no significant differences in the multivariate means of height and weight between basketball players (Group 1) and artistic gymnasts (Group 2). This means that, under the null hypothesis, any observed difference in height and weight means between the two groups is attributed to chance.\n",
    "\n",
    "* Alternative Hypothesis (H1)\n",
    "\n",
    "The alternative hypothesis is what you test against the null hypothesis. It usually suggests that there is an effect or difference. For this study, the alternative hypothesis would be:\n",
    "\n",
    "H1: There are significant differences in the multivariate means of height and weight between basketball players (Group 1) and artistic gymnasts (Group 2). Under the alternative hypothesis, the observed differences are sufficiently large to be considered statistically significant and not due to chance.\n",
    "\n",
    "Applying Hotelling's T² Test will allow evaluating these hypotheses by considering both height and weight simultaneously, taking into account the correlation between these two variables"
   ]
  },
  {
   "cell_type": "code",
   "execution_count": 12,
   "id": "1175e42d-a4fe-4bdf-ab0d-6c1c8ab66067",
   "metadata": {},
   "outputs": [],
   "source": [
    "# Generating Synthetic data \n",
    "np.random.seed(0)\n",
    "group1 = np.random.multivariate_normal([170,60],[[10,2],[2,5]],50) # height and weight of the group 1\n",
    "group2 = np.random.multivariate_normal([175, 65],[[10,2],[2,5]],50) # height and weight of the group 2"
   ]
  },
  {
   "cell_type": "code",
   "execution_count": 6,
   "id": "1baf51d7-b993-4807-adf5-6d627f00cdf2",
   "metadata": {},
   "outputs": [
    {
     "data": {
      "text/plain": [
       "array([[165.44087123,  63.32426187],\n",
       "       [164.90568127,  56.06580982],\n",
       "       [167.17102989,  58.67510047],\n",
       "       [170.03684798,  60.91506097]])"
      ]
     },
     "execution_count": 6,
     "metadata": {},
     "output_type": "execute_result"
    }
   ],
   "source": [
    "group1[1:5]"
   ]
  },
  {
   "cell_type": "code",
   "execution_count": 8,
   "id": "1196f3ae-f3ee-4fce-ae42-e8be46b8d5f1",
   "metadata": {},
   "outputs": [
    {
     "data": {
      "text/plain": [
       "array([[178.25661423,  68.27224235],\n",
       "       [177.28749029,  70.07278299],\n",
       "       [176.78975905,  63.98556345],\n",
       "       [168.04801617,  65.81424878]])"
      ]
     },
     "execution_count": 8,
     "metadata": {},
     "output_type": "execute_result"
    }
   ],
   "source": [
    "group2[1:5]"
   ]
  },
  {
   "cell_type": "code",
   "execution_count": 13,
   "id": "a2c1a365-34d4-441d-898d-99b215328afd",
   "metadata": {},
   "outputs": [
    {
     "data": {
      "text/plain": [
       "array([169.87756591,  60.18293836])"
      ]
     },
     "execution_count": 13,
     "metadata": {},
     "output_type": "execute_result"
    }
   ],
   "source": [
    "# axis=0: This means that the mean will be computed along the columns, i.e., for each variable.\n",
    "# When you specify axis=0, you are instructing NumPy to calculate the mean for each column (each variable) across all rows (all observations). \n",
    "# In other words, it computes the mean for each variable across all observations.\n",
    "np.mean(group1, axis = 0)"
   ]
  },
  {
   "cell_type": "code",
   "execution_count": 11,
   "id": "a050886d-4696-4742-8d4e-1eae8e498256",
   "metadata": {},
   "outputs": [
    {
     "data": {
      "text/plain": [
       "array([174.93237839,  65.37779828])"
      ]
     },
     "execution_count": 11,
     "metadata": {},
     "output_type": "execute_result"
    }
   ],
   "source": [
    "np.mean(group2, axis = 0)"
   ]
  },
  {
   "cell_type": "markdown",
   "id": "c4fb25ac-f73f-4cac-8ba9-f34c5ee927af",
   "metadata": {},
   "source": [
    "The function below implements Hotelling's T² test, which is used to compare the means of two multivariate groups. The function first calculates the means and covariances for each group, then computes the pooled covariance and uses these values to calculate Hotelling's T² statistic. This statistic is then converted into an F-statistic, from which the p-value is derived. The p-value is used to determine if the differences between the group means are statistically significant."
   ]
  },
  {
   "cell_type": "code",
   "execution_count": 14,
   "id": "4fbe5440-1890-4ea7-b076-4a14b56443c9",
   "metadata": {},
   "outputs": [],
   "source": [
    "# Function to calculate the Hotelling's T² test\n",
    "def hotelling_t2_test(group1, group2):\n",
    "\n",
    "    #Calculates the mean of each variable for group 1\n",
    "    mean1 = np.mean(group1, axis =0)\n",
    "\n",
    "    # Calculates the mean of each variable for group 2\n",
    "    mean2 = np.mean(group2, axis =0)\n",
    "\n",
    "    # Determines the number of observations in each group\n",
    "    n1,n2 = len(group1), len(group2)\n",
    "\n",
    "    # Calculates the covariance matrix of group 1\n",
    "    ### The covariance matrix will define how data vary together.\n",
    "    cov1 = np.cov(group1.T)\n",
    "\n",
    "    # Calculates the covariance matrix of group 2\n",
    "    cov2 = np.cov(group2.T)\n",
    "\n",
    "    # Calculates the aggregate covariance of the two groups\n",
    "    pooled_cov = ((n1-1) * cov1 + (n2-1) * cov2)/(n1 + n2 -2)\n",
    "\n",
    "    # Calculates the difference in means between the two groups\n",
    "    mean_diff = mean1 - mean2\n",
    "\n",
    "    # Calculates Hotelling's T² statistic\n",
    "    t2_stats = n1 * n2 / (n1 + n2) * mean_diff.dot(inv(pooled_cov)).dot(mean_diff)\n",
    "\n",
    "    # Determines the degrees of freedom for the numerator (number of variables) \n",
    "    df1 = len(mean1)\n",
    "\n",
    "    # Determines the degrees of freedom for the denominator\n",
    "    df2 = n1 + n2 - df1 -1\n",
    "\n",
    "    # Convertes T² statistic into the F statistic\n",
    "    f_stats = t2_stats * (df2 / (n1 + n2 - 2))/df1\n",
    "\n",
    "    # Calculates the 'p' value associated with the F statistic\n",
    "    p_value = 1 - f.cdf(f_stats, df1, df2)\n",
    "\n",
    "    # Returns T² statistics and P value\n",
    "    return t2_stats, p_value"
   ]
  },
  {
   "cell_type": "code",
   "execution_count": 15,
   "id": "71b223ee-cd95-490f-a3b5-7a27a1daf2d1",
   "metadata": {},
   "outputs": [],
   "source": [
    "# Performing the test\n",
    "t2_stats, p_value = hotelling_t2_test(group1, group2)"
   ]
  },
  {
   "cell_type": "code",
   "execution_count": 18,
   "id": "a914bca7-c94f-45de-a665-510cc6193f85",
   "metadata": {},
   "outputs": [
    {
     "name": "stdout",
     "output_type": "stream",
     "text": [
      "T² Statistics:  146.68909049022432\n",
      "P Value:  1.1102230246251565e-16\n"
     ]
    }
   ],
   "source": [
    "print('T² Statistics: ', t2_stats)\n",
    "print('P Value: ', p_value)"
   ]
  },
  {
   "cell_type": "markdown",
   "id": "fda34da1-ec17-4f01-a498-e99ce02d0c6a",
   "metadata": {},
   "source": [
    "The most important information above is the 'P value'.\n",
    "P Value:  1.1102230246251565e-16 -> the dash before the number 16, indicates that it is an extremely low number.\n",
    "The confirmation can be seen when I ask if the p_value is less than 0.05 in the cell below"
   ]
  },
  {
   "cell_type": "code",
   "execution_count": 19,
   "id": "07a56225-5daf-4f51-a494-ca75b6e2b956",
   "metadata": {},
   "outputs": [
    {
     "data": {
      "text/plain": [
       "True"
      ]
     },
     "execution_count": 19,
     "metadata": {},
     "output_type": "execute_result"
    }
   ],
   "source": [
    "p_value < 0.05"
   ]
  },
  {
   "cell_type": "markdown",
   "id": "9dfb28fb-55de-4808-980f-b6f3a4089e3b",
   "metadata": {},
   "source": [
    "### Interpretation:\n",
    "\n",
    "**T² Statistic:**\n",
    "\n",
    "* The T² statistic is a measure of the difference between the means of the two groups. A high value indicates a significant difference between the means of the groups being tested.\n",
    "\n",
    "**p-value:**\n",
    "\n",
    "* The p-value is a measure of the probability of obtaining an extreme result as observed, assuming that the null hypothesis (that the group means are equal) is true.\n",
    "  \n",
    "* A very small p-value suggests that, if the null hypothesis were true, it would be very unlikely to observe such a large difference or larger by chance.\n",
    "\n",
    "* A low p-value (less than 0.05) indicates strong evidence against the null hypothesis and in favour of the alternative hypothesis (that the means are different).\n",
    "  \n",
    "In summary, if the p-value is small (typically less than 0.05), it suggests that the differences in the means of the groups are statistically significant, leading to the rejection of the null hypothesis."
   ]
  },
  {
   "cell_type": "markdown",
   "id": "9415ae9d-42ef-4eed-9f19-066570dde016",
   "metadata": {},
   "source": [
    "# End"
   ]
  }
 ],
 "metadata": {
  "kernelspec": {
   "display_name": "Python 3 (ipykernel)",
   "language": "python",
   "name": "python3"
  },
  "language_info": {
   "codemirror_mode": {
    "name": "ipython",
    "version": 3
   },
   "file_extension": ".py",
   "mimetype": "text/x-python",
   "name": "python",
   "nbconvert_exporter": "python",
   "pygments_lexer": "ipython3",
   "version": "3.11.7"
  }
 },
 "nbformat": 4,
 "nbformat_minor": 5
}
